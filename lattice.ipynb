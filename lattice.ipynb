{
 "cells": [
  {
   "cell_type": "code",
   "execution_count": 1,
   "id": "80de1df8",
   "metadata": {},
   "outputs": [
    {
     "name": "stdout",
     "output_type": "stream",
     "text": [
      "vecteur a: 4.357644534011465\n",
      "vecteur b: 4.357644534011465\n",
      "vecteur c: 4.357644534011465\n",
      "maille primitive 0.000000 3.081320 3.081320\n",
      "3.081320 0.000000 3.081320\n",
      "3.081320 3.081320 0.000000\n",
      "vecteur a_star: 4.357644534011465\n",
      "vecteur b_star: 4.357644534011465\n",
      "vecteur c_star: 4.357644534011465\n",
      "maille réciproque -1.019561 1.019561 1.019561\n",
      "1.019561 -1.019561 1.019561\n",
      "1.019561 1.019561 -1.019561\n",
      "Type de maille: cubic\n",
      "Système cristallin cubic\n",
      "Groupe ponctuel: -43m\n"
     ]
    }
   ],
   "source": [
    "from pymatgen.symmetry.analyzer import SpacegroupAnalyzer\n",
    "from pymatgen.io.cif import CifWriter\n",
    "from pymatgen.ext.matproj import MPRester\n",
    "with MPRester(\"ittkwe9m4QMvQT1m\") as m:\n",
    "\n",
    "\n",
    "    # Structure for material id\n",
    "    structure = m.get_structure_by_material_id(\"mp-924129\")\n",
    "    \n",
    "w = CifWriter(structure)\n",
    "w.write_file('mystructure.cif')\n",
    "struct = SpacegroupAnalyzer(structure)\n",
    "primitive =SpacegroupAnalyzer(structure).get_primitive_standard_structure()\n",
    "#On obtient les vecteurs de base\n",
    "Maille_prim = primitive.lattice\n",
    "a = Maille_prim.a\n",
    "b = Maille_prim.b\n",
    "c = Maille_prim.c\n",
    "print(\"vecteur a:\", a)\n",
    "print(\"vecteur b:\", b)\n",
    "print(\"vecteur c:\", c)\n",
    "print(\"maille primitive\", Maille_prim)\n",
    "#On obtient les vecteurs de réciproques\n",
    "Maille_recipr= Maille_prim.reciprocal_lattice\n",
    "a_star = Maille_recipr.a\n",
    "b_star = Maille_recipr.b\n",
    "c_star = Maille_recipr.c\n",
    "print(\"vecteur a_star:\", a)\n",
    "print(\"vecteur b_star:\", b)\n",
    "print(\"vecteur c_star:\", c)\n",
    "print(\"maille réciproque\", Maille_recipr)\n",
    "typemaille = SpacegroupAnalyzer(structure).get_lattice_type ()\n",
    "print(\"Type de maille:\", typemaille)\n",
    "syst_cristallin= SpacegroupAnalyzer(structure).get_crystal_system()\n",
    "print(\"Système cristallin\", syst_cristallin)\n",
    "point_ponctuel= SpacegroupAnalyzer(structure).get_point_group_symbol()\n",
    "print(\"Groupe ponctuel:\", point_ponctuel)\n"
   ]
  },
  {
   "cell_type": "code",
   "execution_count": null,
   "id": "9814b291",
   "metadata": {},
   "outputs": [],
   "source": []
  }
 ],
 "metadata": {
  "kernelspec": {
   "display_name": "Python 3",
   "language": "python",
   "name": "python3"
  },
  "language_info": {
   "codemirror_mode": {
    "name": "ipython",
    "version": 3
   },
   "file_extension": ".py",
   "mimetype": "text/x-python",
   "name": "python",
   "nbconvert_exporter": "python",
   "pygments_lexer": "ipython3",
   "version": "3.6.8"
  }
 },
 "nbformat": 4,
 "nbformat_minor": 5
}
