{
 "cells": [
  {
   "cell_type": "code",
   "execution_count": 11,
   "id": "ee3b7c4e",
   "metadata": {},
   "outputs": [],
   "source": [
    "from pymatgen.symmetry.analyzer import SpacegroupAnalyzer\n",
    "from pymatgen.io.cif import CifWriter\n",
    "from pymatgen.ext.matproj import MPRester\n",
    "from pymatgen.core.operations import SymmOp\n",
    "from IPython.display import Image\n",
    "from jupyter_jsmol.pymatgen import quick_view"
   ]
  },
  {
   "cell_type": "code",
   "execution_count": 12,
   "id": "467ec1ed",
   "metadata": {},
   "outputs": [],
   "source": [
    "with MPRester(\"ittkwe9m4QMvQT1m\") as m:\n",
    "\n",
    "\n",
    "    # Structure for material id\n",
    "    structure = m.get_structure_by_material_id(\"mp-924129\")\n",
    "    \n",
    "w = CifWriter(structure)\n",
    "w.write_file('mystructure.cif')"
   ]
  },
  {
   "cell_type": "code",
   "execution_count": 13,
   "id": "9dfb4c6f",
   "metadata": {},
   "outputs": [],
   "source": [
    "struct = SpacegroupAnalyzer(structure)\n",
    "conv_structure= struct.get_conventional_standard_structure()\n",
    "conv_struct= SpacegroupAnalyzer(conv_structure)\n",
    "#On commence par identfier les sites de la structure conventionelle\n",
    "site_cristallin= conv_structure.sites"
   ]
  },
  {
   "cell_type": "code",
   "execution_count": 14,
   "id": "37dcb69f",
   "metadata": {},
   "outputs": [
    {
     "name": "stdout",
     "output_type": "stream",
     "text": [
      "Opération de rotation : Rot:\n",
      "[[ 1. -1.  0.]\n",
      " [ 0. -1.  0.]\n",
      " [ 0.  0. -1.]]\n",
      "tau\n",
      "[0. 0. 0.]\n",
      "Position atomes : [0.75 0.25 0.25]\n",
      "Calcul opération de rotation : [ 0.5  -0.25 -0.25]\n"
     ]
    }
   ],
   "source": [
    "#1ère symétrie; rotation d'ordre 2\n",
    "Sym_rot = SymmOp.from_xyz_string('x-y,-y,-z')\n",
    "pos_atome = site_cristallin[6].frac_coords\n",
    "#Position après opération de symétrie de l'atome S numéro 8\n",
    "Calcul_sym_rot= Sym_rot.operate(pos_atome)\n",
    "print(\"Opération de rotation :\", Sym_rot)\n",
    "print(\"Position atomes :\", pos_atome)\n",
    "print(\"Calcul opération de rotation :\",Calcul_sym_rot)"
   ]
  },
  {
   "cell_type": "code",
   "execution_count": 21,
   "id": "a14a4c56",
   "metadata": {},
   "outputs": [
    {
     "data": {
      "application/vnd.jupyter.widget-view+json": {
       "model_id": "5a372ec58d204b949a9ea178d58c68ac",
       "version_major": 2,
       "version_minor": 0
      },
      "text/plain": [
       "JsmolView(layout=Layout(align_self='stretch', height='400px'))"
      ]
     },
     "metadata": {},
     "output_type": "display_data"
    }
   ],
   "source": [
    "# représentation 3D graphique de l'opération\n",
    "view = quick_view(conv_structure,supercell=[1,1,1])\n",
    "display(view)\n",
    "view.script('draw Calcul_sym_rot {atomno = 2}; select atomno=1; label on; color red')"
   ]
  },
  {
   "cell_type": "code",
   "execution_count": 16,
   "id": "e6d8b1d9",
   "metadata": {},
   "outputs": [
    {
     "name": "stdout",
     "output_type": "stream",
     "text": [
      "Opération de réflexion : Rot:\n",
      "[[ 0. -1.  0.]\n",
      " [-1.  0.  0.]\n",
      " [ 0.  0.  1.]]\n",
      "tau\n",
      "[0. 0. 0.]\n",
      "Position atomes : [0.0, 0.0, 0.54]\n",
      "Calcul opération de réflexion : [0.   0.   0.54]\n"
     ]
    }
   ],
   "source": [
    "#2ème symétrie; réflexion\n",
    "Syst_réflexion = SymmOp.from_xyz_string('-y,-x,z')\n",
    "position_at = [0.0,0.0,0.54]\n",
    "Calcul_syst_reflexion = Syst_réflexion.operate(position_at)\n",
    "print(\"Opération de réflexion :\", Syst_réflexion)\n",
    "print(\"Position atomes :\", position_at)\n",
    "print(\"Calcul opération de réflexion :\", Calcul_syst_reflexion)"
   ]
  },
  {
   "cell_type": "code",
   "execution_count": 17,
   "id": "77af6427",
   "metadata": {},
   "outputs": [
    {
     "data": {
      "application/vnd.jupyter.widget-view+json": {
       "model_id": "12d524052a2a473691753207e5e2ef16",
       "version_major": 2,
       "version_minor": 0
      },
      "text/plain": [
       "JsmolView(layout=Layout(align_self='stretch', height='400px'))"
      ]
     },
     "metadata": {},
     "output_type": "display_data"
    }
   ],
   "source": [
    "# représentation 3D graphique de l'opération\n",
    "view = quick_view(conv_structure,supercell=[1,1,1])\n",
    "display(view)\n",
    "view.script('draw Calcul_syst_reflexion {atomno = 2}; select atomno=2; label on; color red')"
   ]
  },
  {
   "cell_type": "code",
   "execution_count": 18,
   "id": "688a83ca",
   "metadata": {},
   "outputs": [
    {
     "name": "stdout",
     "output_type": "stream",
     "text": [
      "Opération de rotation hélicoïdale d'ordre 3 : Rot:\n",
      "[[ 0. -1.  0.]\n",
      " [ 1. -1.  0.]\n",
      " [ 0.  0.  1.]]\n",
      "tau\n",
      "[-0.33333333  0.33333333  0.33333333]\n",
      "Position atomes : [0.25 0.25 0.75]\n",
      "Calcul opération de rotation hélicoïdale d'ordre 3 : [0.   0.   0.54]\n"
     ]
    }
   ],
   "source": [
    "#3ème symétrie; rotation hélicoïdale d'ordre 3\n",
    "Syst_helic = SymmOp.from_xyz_string('-y-1/3,x-y+1/3,z+1/3')\n",
    "Pos_at = site_cristallin[4].frac_coords\n",
    "#Position après opération de symétrie de l'atome Sm numéro 6\n",
    "Calcul_syst_helic = Syst_helic.operate(Pos_at)\n",
    "print(\"Opération de rotation hélicoïdale d'ordre 3 :\", Syst_helic)\n",
    "print(\"Position atomes :\", Pos_at)\n",
    "print(\"Calcul opération de rotation hélicoïdale d'ordre 3 :\", Calcul_syst_reflexion)"
   ]
  },
  {
   "cell_type": "code",
   "execution_count": 20,
   "id": "898c4f3e",
   "metadata": {
    "scrolled": true
   },
   "outputs": [
    {
     "data": {
      "application/vnd.jupyter.widget-view+json": {
       "model_id": "7e95f0946c9c4a129cd3df7945a1d497",
       "version_major": 2,
       "version_minor": 0
      },
      "text/plain": [
       "JsmolView(layout=Layout(align_self='stretch', height='400px'))"
      ]
     },
     "metadata": {},
     "output_type": "display_data"
    }
   ],
   "source": [
    "# représentation 3D graphique de l'opération\n",
    "view = quick_view(conv_structure,supercell=[1,1,1])\n",
    "display(view)\n",
    "view.script('draw Calcul_syst_helic {atomno = 2}; select atomno=1; label on; color red')"
   ]
  },
  {
   "cell_type": "code",
   "execution_count": null,
   "id": "77a57561",
   "metadata": {},
   "outputs": [],
   "source": []
  }
 ],
 "metadata": {
  "kernelspec": {
   "display_name": "Python 3",
   "language": "python",
   "name": "python3"
  },
  "language_info": {
   "codemirror_mode": {
    "name": "ipython",
    "version": 3
   },
   "file_extension": ".py",
   "mimetype": "text/x-python",
   "name": "python",
   "nbconvert_exporter": "python",
   "pygments_lexer": "ipython3",
   "version": "3.6.8"
  }
 },
 "nbformat": 4,
 "nbformat_minor": 5
}
